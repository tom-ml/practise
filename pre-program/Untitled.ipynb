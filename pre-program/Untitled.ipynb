{
 "cells": [
  {
   "cell_type": "code",
   "execution_count": 18,
   "metadata": {},
   "outputs": [],
   "source": [
    "from Config import *\n",
    "from HotelModel import *\n",
    "import fileUtil\n",
    "import re\n",
    "import os"
   ]
  },
  {
   "cell_type": "code",
   "execution_count": 20,
   "metadata": {},
   "outputs": [],
   "source": [
    "basic_dir = '../dataset'\n",
    "# file_name = 'generate_select_distinct_name_zh_cn_temp.csv'\n",
    "stop_file_name = 'stopwords.txt'\n",
    "\n",
    "file_name = '../dataset/remove_stopwords.csv'\n",
    "weight_file = 'hotels_model.h5'\n",
    "# 根据前六个字预测第七个字\n",
    "max_len = 6\n",
    "batch_size = 512\n",
    "learning_rate = 0.1"
   ]
  },
  {
   "cell_type": "code",
   "execution_count": 21,
   "metadata": {},
   "outputs": [
    {
     "name": "stdout",
     "output_type": "stream",
     "text": [
      "段落处理完毕\n",
      "段落处理完毕\n"
     ]
    }
   ],
   "source": [
    "if os.path.exists(os.path.join(basic_dir,stop_file_name)):\n",
    "    stopWords = fileUtil.read_data_as_array(stop_file_name)\n",
    "else:\n",
    "    quit()\n",
    "stopword_list = set(stopWords)\n",
    "\n",
    "documents = []\n",
    "with open(os.path.join(basic_dir,file_name), 'r', encoding='utf-8') as f:\n",
    "    while True:\n",
    "        line = f.readline()\n",
    "        if len(line.strip()) == 0:\n",
    "            print('段落处理完毕')\n",
    "        if not line:\n",
    "            break\n",
    "        for char in stopword_list:\n",
    "            line = line.replace(char, \"\")\n",
    "        line = line.replace('。。', \"END\")\n",
    "        line = line.replace('。', \"END\")\n",
    "        documents.append(line)"
   ]
  },
  {
   "cell_type": "code",
   "execution_count": 22,
   "metadata": {},
   "outputs": [
    {
     "name": "stdout",
     "output_type": "stream",
     "text": [
      "['上海时生隅园林文化酒店2017年的秋末，时生隅初见END彼时的心愿，想要在快节奏的都市，寻处讲诉时光和生命的角落END错，不闻浮沉END这便是时生隅的由来END，我们秉承初心，在闹中取静的川沙地铁站商圈，觅方天地—充满江南气息的园林，叶园END长廊湖景，古雅庭院END淡雅而大气，是快节奏与民俗文化的交融，幽静而明快，是远道而来或憩而居的别样天地END时生隅的新老朋友，我们在叶园，期待与您共襄景，时光言欢END\\n', '云和夜泊酒店上海浦东国际机场店，位于浦东新区祝桥秋亭路，毗邻上海浦东国际机场，车程20分钟，距上海迪士尼18分钟车程，距上海野生动物园21分钟车程END酒店地理位置优越，并配备大中豪华轿车接送客户END酒店拥有房间98间，大床30间，行政大床15间，标间30间，亲子房23间END\\n', '维纳酒店上海浦东机场店位于浦东新区川南奉公路，近晨阳路，与迪士尼直线距离约8公里，可便捷到达地铁2号线凌空路站，交通便利END酒店周围生活设施齐全，旅游资源众多，有上海新国际博览中心迪士尼上海野生动物园农艺大观园三甲港滨海旅游区END维纳酒店上海浦东机场店是维纳旗的连锁酒店，装修豪华舒适，整体风格高贵典雅END客房宽敞明亮温馨时尚，房内布置精美，处处体现人性化的理念END酒店还有宽敞停车场休闲茶宽敞会议室，同时还为您提供精品早餐浦东机场接机需预约服务，是商务休闲会务的理想酒店END\\n', '上海万信R酒店位于浦东新区崮山路，地处内环线陆家嘴金融区内，近地铁6号线北洋泾路站，地铁9号线芳甸路站，配备专属停车场，自驾至新国际博览中心约10分钟，至外滩世博园区南京路步行街上海自由贸易区上海迪斯尼乐园约20分钟END酒店拥有百余间崭新客房，精选配套，舒适与轻奢相拥酒店圣罗拉餐厅环境舒适安逸，主西餐辅以粤菜川菜沪菜，在此享受由港粤名厨精心烹饪的佳肴，舌尖不由自主的跳了芭蕾END早餐的菜品琳琅满目可达40种，为保证口味，餐品均选优质食材天加工END酒店豪华宴会厅提供站式婚礼服务与专业的会务服务END200㎡万信厅可支持约120人课桌式会议，100㎡丽都厅适合60人以的各类会议需求END万信R酒店设计，突破了万信酒店贯理念，时尚年轻，秉承R文化，华丽，贴心，轻松，享受END\\n', '酒店位于浦东新区沪南公路3655弄2号，素有上海之称的周浦镇，沪南公路横桥路路口，周边有地铁16号线周浦东站及11号线秀沿路站，16号线可直达海洋公园，冰雪世界游玩景点，11号线可直达迪士尼乐园毗邻迪士尼乐园新国际博览中心END酒店周围有迪士尼，上海野生动物园，海昌海洋世界，上海科技馆多个游玩景点，周边更有万达广场，绿地商城，美食娱乐均可轻松满足END酒店由美国著名设计师造，是知名高端设计师酒店品牌END客房典雅豪华宽敞舒适，并配以42寸飞利浦电视三诺音响电动窗帘智能灯控系统先进科技设施设备，带来尊贵体验和高端享受END酒店个房间都有独立的企业级WIFI，带给您网络的极速体验，的隔音系统更由清华声学所设计，睡眠环境优越，你夜酣眠END酒店提供浦东国际机场，迪士尼和周浦东站的定时免费班车服务请提前天致电酒店前台预约，详情请咨询店家END\\n', '唯庭酒店上海外滩店位于黄浦区中山南路，靠近董家渡轻纺市场南浦大桥，与豫园外滩人民广场老西门南京东路步行街相邻，靠近十六铺码头，体验老上海风情的历史风光，周边交通便利，与4号线，9号线相近，可步行至豫园END酒店设有两百余间不同类型的客房，房内均配备智能控制系统高级床品和高端洗浴用品，酒店独有会议室早餐厅应俱全END酒店以现代轻奢风，精致时尚的环境智能及舒适人性的客房高效便捷的设施温馨细致的服务，带给您场全新的商务旅行体验线END\\n', '上海迪漫酒店位于上海浦东新区川沙镇——川图路，地处迪士尼乐园旁核心位置，距离迪士尼约3公里左右，2号地铁站川沙站约3END5公里END酒店监控区域内有停车位，房间内配备24时热水拖鞋独立淋浴间吹风机洗漱用品，书桌液晶电视高速上网空调WIFI电水壶END此外，酒店有专车接送服务详情请咨询商家，酒店保证为位顾客提供优质的服务，全面的设施，迪漫酒店期待您的光临END\\n', '酒店位于南京路步行街中心位置地处南京路步行街上，毗邻人民广场杜莎夫人蜡馆城隍庙豫园外滩淮海路商圈隔江眺望东方明珠环球金融中心END从酒店步行可至地铁128的人民广场站5619号出口10号线南京东路站1号口交通便利END酒店客房内设有先进的智能化客房电子设备精致时尚的住宿环境舒适人性的客房高效便捷的设施恰到处的服务，带您体验商务旅行新乐趣END您拥有惬意的住宿环境，享受段自在旅程END\\n', '上海沪迪酒店位于上海市浦东新区川图路，与川沙路交汇处，距迪士尼直线距离约1END9公里，地铁站约5分钟车程，酒店周边景点有上海科技馆上海野生动物园佛罗伦萨镇东方明珠外滩南京路步行街END酒店面积近万平米，配有24时全家便利店，餐厅足浴SP会议室，酒店装修风格以北欧风美式风及童亲子风格为主，论您游玩迪士尼出行浦东机场，上海沪迪酒店是您不错选择END酒店还提供免费接送迪士尼浦东机场2号线地铁川沙站详情请咨询商家END\\n', '上海迪堡王国酒店位于上海浦东新区川沙镇——川图路，地处迪士尼乐园旁核心位置，距离迪士尼约3公里左右，2号地铁站川沙站约3END5公里END酒店监控区域内有停车位，房间内配备24时热水拖鞋独立淋浴间吹风机洗漱用品，书桌液晶电视高速上网空调WIFI电水壶END此外，酒店有专车接送服务详情请咨询商家，酒店保证为位顾客提供优质的服务，全面的设施，期待光临END\\n', '麦新格国际酒店上海迪士尼店地处浦东新区周浦镇上南路，靠近周浦万达广场，距离上海迪士尼乐园约6END8公里，地铁需从康桥的秀沿路坐11号线，2站即可到达迪士尼乐园门口END酒店靠近外环A20，前往浦东机场虹桥机场龙阳路国际博览中心，世博园区车程约20分钟，上海野生动物园康桥工业园区周浦工业园区都方便END酒店以西式古典建筑的装饰风格为外部特征，融汇欧洲音乐艺术，你仿佛置身于艺术的国度END覆盖WIFI，闹中取静，环境优雅，配备大型停车场，接待外宾END百余间精品客房由名师设计，采用国际化卫浴设计理念，简约大方END优质金属感花洒，淋在身上，天降甘露，美妙畅快END酒店有班车接送迪士尼游玩浦东机场的客人具体时刻表请咨询酒店，可以提前周代购迪士尼乐园门票，你享受吃住玩条龙服务END\\n', '零点依精致酒店上海火车站店位于静安区上海火车站西南出口恒丰路桥口苏河号广场，地铁1号线3号线4号线交通方便，地理位置优越END酒店拥有高贵典雅的豪华客房，2个会议室设备齐全，装修时尚，举办培训会年会活动，零点依海鲜餐厅有豪华包厢可接待豪华宴请商务宴请，厅面提供点菜服务商务套餐桌餐团餐自助早餐，是商务出行会议培训的上佳场所END客房均采用米智能控制系统，配备高档慕斯床垫，为您带来流的入住体验END\\n', '宿适轻奢酒店上海火车站店位于地铁1号线汉中路站上盖，4号出口即是酒店，汇集地铁1号12号13号线，可直达上海火车站外滩城隍庙人民广场南京东路步行街杜莎夫人蜡馆国展中心迪士尼著名景点，步行可至凯德星贸太阳City城，德国法国签证中心END酒店客房设计新颖，现代感十足，床品舒适，用心的服务，愿成为您旅程美的记忆END\\n', '上海浦东主题乐园万信酒店位于浦东新区川周公路，地理位置优越，距离地铁2号线约3公里，距上海迪士尼乐园入口约15分钟车程，届时，您可乘坐酒店班车，轻松快捷到达迪士尼乐园详细请咨询商家END而从酒店出发700米后即可驶入S1迎宾大道，行车约15分钟直达浦东国际机场END周边有野生动物园川沙古城墙公园旅游景点毗邻新国际博览中心张江高科园区金桥出口加工区南区商务区END酒店是万信集团规划数年倾力造的经典之作，以其华丽姿态成为镶嵌在迪士尼盛装上的颗璀璨之星END酒店设计庄重典雅，楼高9层，设有三百余间雅致舒适的客房END宏大现代的酒店大厅及休闲体现了超时代的艺术风范END可同时容纳250人用餐的餐厅800平米柱宴会厅配备多功能及先进视听设备的会议室，不仅为中高档会议，可为婚宴及活动提供更高规格更人性化的服务END酒店还拥有系列全面综合的健身及休闲设施，包括庭中花园室内恒温泳池康乐健身中心，为您的到来增添更具活力与品位的健康场所END作为万信旗舰店的酒店竭诚欢迎您与您的亲友光临，共享迪士尼梦幻童话的畅想曲END\\n', '上海林隐艺术酒店座落于上海浦东国际机场周边，紧邻上海国际旅游度假区上海迪士尼乐园，独具风格的庭院式设计整个酒店在喧的都市中寻份宁静，沿岸的的复古风格建筑住客可以感受江南水乡的独特气息END酒店艺术气息浓厚拥有自的艺术展览馆，可供住店客人在闲暇之余参观并鉴赏大师的作品，入夜，坐在幽静的水岸边，杯红酒首情歌，享受酒的浪漫END休闲之余带上孩家人畅游迪士尼之余，可以在酒店内陪孩度过个非常有内容的假期END\\n', '美豪丽致酒店上海徐家汇衡山路旗舰店地处上海市中心，建国西路，靠近衡山路宛平路距上海繁华的商业中心-徐家汇仅几步之遥，紧邻徐家汇公园END绿树成荫，闹中取静END酒店交通便捷，步行约5分钟可达地铁1号线衡山路站，步行约10分钟可达地铁11号线交通大学站，全国有名的上海五官科医院，上海中山医院，国际妇婴院，均在酒店附近，上海交通大学，距酒店约1公里，步行可达END美豪丽致酒店是美豪酒店集团历时七年研发，精耕细作，为中高端商旅人士造的城市度假酒店，原生态设计，智能生活体验，高级床品与洗护套装，完善的多维功能空间配套，免费开放的城市会客厅，繁华都市中静瑟守候，家贴心服务您尊享商旅度假体验END酒店拥有各类客房三百间，现代简约古典时尚，精致典雅客房，均以品味奢华的用料自然的木饰装点END酒店配有三个会议室中餐厅自助餐厅咖啡书完善配套，更契合商务旅行人士的出行需要END此外酒店还提供超过60个停车位，为出行带来更多方便END酒店整体简约时尚的装修格调，您身心在紧张高节奏的工作之余，享有片城市的素雅和宁静END\\n', '酒店位于南京西路1856号4-5F，地处静安商业中心，繁华的南京西路，与华山路交界处，临近城市航站楼，地铁2号线7号线静安寺站1号口出，途经华山路过街地通道行至酒店约5分钟，地铁可直达上海浦东机场上海虹桥机场与名的静安寺百乐门久光百货仅街之隔，步行至华山医院童医院约15分钟，酒店距延安高架上匝口仅1分钟车程，毗邻会德丰广场1788广场中福会少年宫周边生活配套齐全，购物中心特色食府END各类娱乐场所应俱全END交通出行便捷END温馨提示酒店目前能接待内宾，外宾法接待END\\n', '美豪酒店上海虹桥国展中心店位于闵行区申城北路，紧邻虹桥枢纽商圈，距离国家会展中心约3END9公里END酒店周边餐饮娱乐齐全，步行即可到达虹顺广场良华购物广场娱乐购物休闲于体的大型综合商业广场END美豪酒店距离上海虹桥枢纽中心约2END9公里，酒店距离虹桥天地购物中心约2END9公里，满足您吃喝娱于体的综合购物广场，开车约10分钟END酒店以精致时尚的环境舒适人性的客房高效便捷的设施恰到处的服务，带领您体验商务旅行新乐趣END东西方文化融合的艺术气息蕴含在酒店的设计中，满足品牌商旅人士的社交情感需求，将人文关怀融入产品和服务之中END酒店客房拥有私密影院房，开阔视野庭院房多种不同房型，入住宾客尊享欢迎水果服务自助上午晚茶服务免费自助洗衣服务擦洗车服务贴心家服务，免费高铁机场接送服务，特为商旅出行创造人文贴心体验END酒店集时尚现代简约于体，品牌酣睡床垫位宾客酣然入梦，轻松享惬意生活高速专享光纤，令你畅游商旅e时光，您的商务生活来END美豪酒店，期待您的光临\\n', '上海天钥桥路亚朵S酒店共228间客房，由国际流团队操刀设计，简约雅致，客房均采用普兰特系列优质床品，地暖+中央空调，全套高端芙精油系列洗浴用品，100M高速光纤全WIFI覆盖，数百幅优美人文摄影装点的客房及公共区域，向住店客人开放借阅的图书馆，都为酒店增添浓厚的艺术氛围END酒店设有餐厅相招会议室共语洗熨烘干自助洗衣房出尘及阅读会友空间竹居，为您提供个自在放松的居停空间END酒店延续亚朵的人文精神及品质初心，集合美的城市空间与生活方式，提供给位宾客个全新的社交旅居空间END在，能够休憩充电放松是您商务会议及旅游的理想选择END上海天钥桥路亚朵S酒店位于徐家汇商圈，地理位置天独厚END光大会展中心衡山路酒风情街及淮海路商圈上海繁华的购物区和经典景区均近在咫尺END步行10分钟即可到达八万人体育场上海大舞台上海旅游集散中心，您享竞技体育文化艺术及休闲旅游的饕餮大餐END酒店出行交通极为便捷，十五分钟车程即可抵达上海南站，步行五分钟可到地铁4号线上海体育场站END周边金融商贸机构林立，娱乐购物配套设施齐全END\\n', '桔子酒店·精选上海浦东机场店位于上海市浦东新区施湾六路，距迪士尼乐园直线距离约7END5公里，临近上海海昌极地海洋公园，自由贸易区，离上海绕城高速闻居路出口约1END2公里END酒店还提供浦东机场和迪士尼免费班车接送服务，可便利直达地铁2号线，方便您的出行END由国外名设计师设计，客房音响系统支持蓝牙，房内还配备液晶电视电动窗帘隔音系统由清华声学所设计，保证你拥有夜安静的睡眠，给你带来优质舒适的休憩之所END适合商务出行，情侣出行，亲子出游，休闲度假END酒店还提供浦东机场和迪士尼免费班车接送服务详情请咨询商家，方便您的出行END\\n', '上海外滩南京东路亚朵酒店位于外滩中心地带，地理位置天独厚，外滩南京东路步行街陆家嘴新天地人民广场豫园上海繁华的购物区和经典景区均近在咫尺步行3分钟左右即可到达外滩步行5分钟左右即可到达南京东路步行街，您享万国建筑群与现代高楼的结合，陶醉于黄浦江畔，领略中华街南京东路步行街的购物魅力END酒店出行交通极为便捷，步行7分钟左右即可抵达2号线南京东路站，步行12分钟左右即可到达豫园感受老城隍庙的独特魅力，同时品尝美食的交汇，步行10分钟左右即可搭乘渡轮横跨黄浦江到达现代都市感强烈的金融中心陆家嘴周边金融商贸机构林立，娱乐购物配套设施齐全END酒店设计理念阅读和人文摄影为主题，高品质的客房产品设施+细致温馨的服务，带给你自然静谧温暖朴实的健康生活方式END客房均采用普兰特系列优质床品，中央空调，全套高端Afu精油洗浴用品，房间配备冰箱100M高速光纤，全WIFI覆盖END酒店设有相招餐厅洗熨烘干自助出尘洗衣房及超大阅读会友竹居24时阅读空间汗出健身房宿归客房的设计中融入自然淳朴静谧温暖的设计风格，不精心优致，独具匠心END为你提供个自在放松的居停空间END在，能够休憩充电放松，是商务出行及旅游的佳选END\\n', '酒店位于上海闵行区虹桥沪青平公路，奔驰4S店旁，近申昆路虹桥机场七莘路END毗邻上海动物园71路BRT快速公交吴宝路站，可直达中山公园人民广场南京路豫园外滩，驱车至国家会展中心约10分钟，交通便利END家乐福超市就在旁边，购物方便END酒店设计新颖，拥有多种客房，干净整洁，房内配有PHLIP液晶电视24时免费线上网基础设施END酒店有固定时间点免费接送虹桥机场火车站，详情请咨询店家END\\n', '酒店位于徐家汇路，距地铁9号线浦桥站3号2号口约2分钟路程，步行至热门景点田子坊约5分钟，餐饮购物交通综合体日月光中心仅街之隔离瑞金医院约10分钟END酒店装修时尚，客房配备定制香氛机香氛加湿器夜灯多用途END智能客房配备电动窗帘及智能场景设置，带给您轻松愉快的入住体验END大堂配备唱机器型迷你ktv，娃娃机带您重回童年时光END大堂投影电视机播放热门潮题END咖啡及舒适慵懒的休息区您充分释放旅途疲惫感受美END\\n', '云和夜泊酒店上海虹桥枢纽国展中心店位于普陀区武宁路，毗邻静安寺长寿路南京路观光娱乐景点及市中心繁华商圈END酒店地理位置优越，周边步行10分钟有地铁3/4/11号线地铁，还配备有中豪华商务车接送客户END云和夜泊酒店上海虹桥枢纽国展中心店的客房空间宽敞，设计简约优雅，线条明朗END客房均采用栖云系列优质床品全套精油草本精华洗浴用品供客用，网络方面配备百兆高速光纤，WIFI全覆盖，致力于为客提供舒适便捷的住宿体验环境，秉承以人为本的服务理念，致力于您乘兴而来满意而归\\n', '麗枫酒店上海虹桥火车站国家会展中心店位于上海市闵行区南华街，距离国家会展中心5公里左右，各大景点购物中心公交直达，位置天独厚END这是铂涛集团倾力造的以天然香气为特色的舒适体验型酒店，客房整洁舒适，房内配设齐全END此外，酒店在虹桥火车站提供接送服务详情请咨询商家END2018年12月，铂涛集团加入【阳光诚信联盟】，作为铂涛集团旗的中端连锁品牌，麗枫与您阳光同行，诚信经营\\n', '上海初心莫舍设计师民宿位于陈桥村1132号，临近上海迪士尼度假区END总共客房30余间，间客房都融入了民宿主人的精心设计END民宿坚持客户至上，诚信经营的理念END以亲情化人性化更为突出细节化的服务END给位入住的客人以家为核心的入住体验END本建筑设计体现了中国古代美学与代西方设计的完美融合及碰撞END民宿经营者时刻提醒自，切莫舍去初要经营人文民宿的份心情，取名初心莫舍\\n', '上海远洋宾馆地处黄浦江畔，毗邻美轮美奂的外滩和南京路步行街，与上海地标----东方明珠电视塔隔江相望步行约五分钟即可到达地铁4号线与12号线，与上海整个轨道交通便捷连接，邻近的公平路渡轮码头大连路和新建路两条越江隧道宾馆与浦东陆家嘴金融贸易区近在咫尺END与宾馆街之隔的北外滩滨江步道-星外滩漫步滨水岸线，可近距离感受黄浦江畔的美景和万般韵味，地连廊串联多家餐饮娱乐及购物场所，充分体验都市宁静和奢华生活END宾馆拥有三百余套客房，房内基础配设齐全，适合商旅客人会务培训和三口之家出游END三个大型多功能宴会厅，气势恢弘，极富高雅气质，提供婚宴大型会展会务专业配套服务另有多间专业会议室，能满足各类商务和型会务需求END位于顶层的旋转餐厅----怡珀璇宫提供经典沪粤菜肴，环境高雅价格实在，宾客用餐之余放眼望去，浦江两岸美景收眼底END另有风格迥异的中西餐厅咖啡厅酒行政酒廊餐饮场所，涵盖酌宴请酒席的不同需求END宾馆设有健身中心KTV多项健身娱乐设施，宾客放松身心，享休闲时光END秉承远洋服务，精益求精的服务宗旨，上海远洋宾馆正敞开大门，笑迎四方来宾，共展美前景END\\n', '和颐酒店上海南京东路人民广场店位于人民广场核心区域毗邻南京路步行街外滩城隍庙豫园新世界购物中心来福士广场杜莎夫人蜡馆上海博物馆南京路美食街四川中路商业圈淮海路商圈隔江眺望东方明珠环球金融中心END酒店紧邻地铁128号沿线搭乘地铁至人民广场站14号出口至酒店不足200米，交通便利是市中心地区的高性价住宿之选END这是知名设计公司美国Gensler与家酒店集团合作设计的高端商务酒店，精致时尚的住宿环境温馨的客房，配有舒适睡床柔软棉线网络全覆盖中央空调系统液晶有线电视智能电梯门控，各类高效便捷的设施，可以彻底放松身心，带您体验商务旅行新乐趣END\\n', '唯庭酒店上海徐家汇店紧邻上海繁华的徐家汇商业区，步行可到地铁站上海万体馆徐家汇天主教堂龙华医院太平洋百货港汇广场END光大会展中心上海南站内环高架都在短距车程范围内END酒店的客房内提供光纤上网彩色平面电视电子门锁国际直拨长途电话服务，适合商务或休闲旅行入住END酒店注重用心服务，其自助早餐颇受房客的评与喜爱，客人在此感超值的住宿体验END\\n', '漫心上海静安酒店位于上海市静安区天目西路天目西路梅园路路口，毗邻人民广场商圈和南京路外滩商圈，地铁1/3/4号线上海火车站2号口出步行约100米到达END活色生香，livelively是漫心希望传递给客人的生活理念，作为华住酒店集团旗中高端设计酒店品牌，漫心为您提供轻松的开放式社交平台--漫趣大堂，客房采用轻松明快的色彩，并配备日本皇室御用品牌POLA洗护用品热带雨林花洒电加热马桶情景灯光蓝牙音箱电子香薰高品质客房用品END漫趣大堂酒水咖啡鸡尾酒健身房，为您实现完美时尚的漫心之旅END\\n']\n"
     ]
    }
   ],
   "source": [
    "print(documents[:30])"
   ]
  },
  {
   "cell_type": "code",
   "execution_count": 14,
   "metadata": {},
   "outputs": [],
   "source": [
    "puncs = [']', '[', '（', '）', '{', '}', '：', '《', '》']\n",
    "def preprocess_file():\n",
    "    # 语料文本内容\n",
    "    files_content = ''\n",
    "    with open(file_name, 'r', encoding='utf-8') as f:\n",
    "        for line in f:\n",
    "            # 每行的末尾加上\"]\"符号代表一首诗结束\n",
    "            for char in puncs:\n",
    "                line = line.replace(char, \"\")\n",
    "            files_content += line.strip() + \"]\"\n",
    "    words = sorted(list(files_content))\n",
    "    words.remove(']')\n",
    "    counted_words = {}\n",
    "    for word in words:\n",
    "        if word in counted_words:\n",
    "            counted_words[word] += 1\n",
    "        else:\n",
    "            counted_words[word] = 1\n",
    "\n",
    "    # 去掉低频的字\n",
    "    erase = []\n",
    "    for key in counted_words:\n",
    "        if counted_words[key] <= 2:\n",
    "            erase.append(key)\n",
    "    for key in erase:\n",
    "        del counted_words[key]\n",
    "    del counted_words[']']\n",
    "    wordPairs = sorted(counted_words.items(), key=lambda x: -x[1])\n",
    "    \n",
    "    words, _ = zip(*wordPairs)\n",
    "    print(_)\n",
    "    # word到id的映射\n",
    "    word2num = dict((c, i + 1) for i, c in enumerate(words))\n",
    "    num2word = dict((i, c) for i, c in enumerate(words))\n",
    "    word2numF = lambda x: word2num.get(x, 0)\n",
    "    return word2numF, num2word, words, files_content"
   ]
  },
  {
   "cell_type": "code",
   "execution_count": 15,
   "metadata": {},
   "outputs": [
    {
     "name": "stdout",
     "output_type": "stream",
     "text": [
      "(117, 50, 46, 46, 46, 44, 42, 31, 24, 21, 21, 20, 19, 18, 18, 17, 16, 16, 16, 16, 15, 15, 15, 14, 14, 14, 14, 13, 12, 12, 12, 12, 11, 11, 11, 10, 10, 10, 10, 10, 10, 9, 9, 9, 9, 9, 8, 8, 8, 8, 8, 8, 8, 7, 7, 7, 7, 7, 7, 7, 7, 7, 7, 7, 7, 7, 7, 6, 6, 6, 6, 6, 6, 6, 6, 6, 6, 6, 6, 6, 6, 6, 6, 5, 5, 5, 5, 5, 5, 5, 5, 5, 5, 5, 5, 5, 5, 5, 5, 5, 5, 5, 5, 5, 5, 5, 5, 5, 4, 4, 4, 4, 4, 4, 4, 4, 4, 4, 4, 4, 4, 4, 4, 4, 4, 4, 4, 4, 4, 4, 4, 4, 4, 4, 4, 4, 4, 4, 4, 4, 4, 4, 4, 4, 4, 4, 4, 3, 3, 3, 3, 3, 3, 3, 3, 3, 3, 3, 3, 3, 3, 3, 3, 3, 3, 3, 3, 3, 3, 3, 3, 3, 3, 3, 3, 3, 3, 3, 3, 3, 3, 3, 3, 3, 3, 3, 3, 3, 3, 3, 3, 3, 3, 3, 3, 3, 3, 3, 3, 3, 3, 3, 3, 3)\n"
     ]
    }
   ],
   "source": [
    "word2numF, num2word, words, files_content = preprocess_file()"
   ]
  },
  {
   "cell_type": "code",
   "execution_count": null,
   "metadata": {},
   "outputs": [],
   "source": [
    "model = None\n",
    "do_train = True\n",
    "self.loaded_model = False\n",
    "self.config = config\n",
    "\n",
    "if os.path.exists(weight_file):\n",
    "    model = build_model()\n",
    "    model.load_weights(tf.train.latest_checkpoint(self.config.weight_file))\n",
    "    # load_model(self.config.weight_file)\n",
    "    model.summary()\n",
    "else:\n",
    "    train()\n",
    "do_train = False\n",
    "loaded_model = True"
   ]
  },
  {
   "cell_type": "code",
   "execution_count": null,
   "metadata": {},
   "outputs": [],
   "source": [
    "def build_model(self):\n",
    "    '''建立模型'''\n",
    "    input_tensor = tf.keras.layers.Input(shape=(config.max_len,))\n",
    "    embedd = tf.keras.layers.Embedding(len(num2word)+1, 300, input_length=config.max_len)(input_tensor)\n",
    "    lstm = tf.keras.layers.Bidirectional(tf.keras.layers.GRU(128, return_sequences=True))(embedd)\n",
    "    dropout = tf.keras.layers.Dropout(0.6)(lstm)\n",
    "    lstm = tf.keras.layers.Bidirectional(tf.keras.layers.GRU(128, return_sequences=True))(embedd)\n",
    "    dropout = tf.keras.layers.Dropout(0.6)(lstm)\n",
    "    flatten = tf.keras.layers.Flatten()(lstm)\n",
    "    dense = tf.keras.layers.Dense(len(words), activation='softmax')(flatten)\n",
    "    model = tf.keras.models.Model(inputs=input_tensor, outputs=dense)\n",
    "    optimizer = tf.keras.optimizers.Adam(lr=self.config.learning_rate)\n",
    "    self.model.compile(loss='categorical_crossentropy', optimizer=optimizer, metrics=['accuracy'])"
   ]
  },
  {
   "cell_type": "code",
   "execution_count": null,
   "metadata": {},
   "outputs": [],
   "source": [
    "def sample(self, preds, temperature=1.0):\n",
    "    '''\n",
    "    当temperature=1.0时，模型输出正常\n",
    "    当temperature=0.5时，模型输出比较open\n",
    "    当temperature=1.5时，模型输出比较保守\n",
    "    在训练的过程中可以看到temperature不同，结果也不同\n",
    "    '''\n",
    "    preds = np.asarray(preds).astype('float64')\n",
    "    preds = np.log(preds) / temperature\n",
    "    exp_preds = np.exp(preds)\n",
    "    preds = exp_preds / np.sum(exp_preds)\n",
    "    probas = np.random.multinomial(1, preds, 1)\n",
    "    return np.argmax(probas)"
   ]
  },
  {
   "cell_type": "code",
   "execution_count": null,
   "metadata": {},
   "outputs": [],
   "source": [
    "def train(self):\n",
    "    number_of_epoch = 10\n",
    "    if not self.model:\n",
    "        self.build_model()\n",
    "    self.model.summary()\n",
    "    self.model.fit_generator(\n",
    "        generator=self.data_generator(),\n",
    "        verbose=True,\n",
    "        steps_per_epoch=self.config.batch_size,\n",
    "        epochs=number_of_epoch,\n",
    "        callbacks=[\n",
    "            keras.callbacks.ModelCheckpoint(self.config.weight_file, save_weights_only=False),\n",
    "            keras.callbacks.LambdaCallback(on_epoch_end=self.generate_sample_result)\n",
    "        ])"
   ]
  },
  {
   "cell_type": "code",
   "execution_count": null,
   "metadata": {},
   "outputs": [],
   "source": [
    "def generate_sample_result(self, epoch, logs):\n",
    "    print(\"\\n==================Epoch {}=====================\".format(epoch))\n",
    "    for diversity in [0.5, 1.0, 1.5]:\n",
    "        print(\"------------Diversity {}--------------\".format(diversity))\n",
    "        start_index = random.randint(0, len(self.files_content) - self.config.max_len - 1)\n",
    "        generated = ''\n",
    "        sentence = self.files_content[start_index: start_index + self.config.max_len]\n",
    "        generated += sentence\n",
    "        for i in range(20):\n",
    "            x_pred = np.zeros((1, self.config.max_len))\n",
    "            for t, char in enumerate(sentence[-6:]):\n",
    "                x_pred[0, t] = self.word2numF(char)\n",
    "\n",
    "            preds = self.model.predict(x_pred, verbose=0)[0]\n",
    "            next_index = self.sample(preds, diversity)\n",
    "            next_char = self.num2word[next_index]\n",
    "            generated += next_char\n",
    "            sentence = sentence + next_char\n",
    "        print(sentence)"
   ]
  },
  {
   "cell_type": "code",
   "execution_count": null,
   "metadata": {},
   "outputs": [],
   "source": [
    "def predict(self, text):\n",
    "    if not self.loaded_model:\n",
    "            return\n",
    "    with open(self.config.file_name, 'r', encoding='utf-8') as f:\n",
    "        file_list = f.readlines()\n",
    "    random_line = random.choice(file_list)\n",
    "    # 如果给的text不到四个字，则随机补全\n",
    "    if not text or len(text) != 4:\n",
    "        for _ in range(4 - len(text)):\n",
    "            random_str_index = random.randrange(0, len(self.words))\n",
    "            text += self.num2word.get(random_str_index) if self.num2word.get(random_str_index) not in [',', '。','，'] else self.num2word.get(random_str_index + 1)\n",
    "    seed = random_line[-(self.config.max_len):-1]\n",
    "    res = ''\n",
    "    seed = 'c' + seed\n",
    "    for c in text:\n",
    "        seed = seed[1:] + c\n",
    "        for j in range(5):\n",
    "            x_pred = np.zeros((1, self.config.max_len))\n",
    "            for t, char in enumerate(seed):\n",
    "                x_pred[0, t] = self.word2numF(char)\n",
    "            preds = self.model.predict(x_pred, verbose=0)[0]\n",
    "            next_index = self.sample(preds, 1.0)\n",
    "            next_char = self.num2word[next_index]\n",
    "            seed = seed[1:] + next_char\n",
    "        res += seed\n",
    "    return res"
   ]
  },
  {
   "cell_type": "code",
   "execution_count": null,
   "metadata": {},
   "outputs": [],
   "source": [
    "def data_generator(self):\n",
    "    i = 0\n",
    "    while 1:\n",
    "        x = self.files_content[i: i + self.config.max_len]\n",
    "        y = self.files_content[i + self.config.max_len]\n",
    "        puncs = [']', '[', '（', '）', '{', '}', '：', '《', '》', ':']\n",
    "        if len([i for i in puncs if i in x]) != 0:\n",
    "            i += 1\n",
    "            continue\n",
    "        if len([i for i in puncs if i in y]) != 0:\n",
    "            i += 1\n",
    "            continue\n",
    "        y_vec = np.zeros(\n",
    "            shape=(1, len(self.words)),\n",
    "            dtype=np.bool\n",
    "        )\n",
    "        y_vec[0, self.word2numF(y)] = 1.0\n",
    "        x_vec = np.zeros(\n",
    "            shape=(1, self.config.max_len),\n",
    "            dtype=np.int32\n",
    "        )\n",
    "        for t, char in enumerate(x):\n",
    "            x_vec[0, t] = self.word2numF(char)\n",
    "        yield x_vec, y_vec\n",
    "        i += 1"
   ]
  }
 ],
 "metadata": {
  "kernelspec": {
   "display_name": "Python 3",
   "language": "python",
   "name": "python3"
  },
  "language_info": {
   "codemirror_mode": {
    "name": "ipython",
    "version": 3
   },
   "file_extension": ".py",
   "mimetype": "text/x-python",
   "name": "python",
   "nbconvert_exporter": "python",
   "pygments_lexer": "ipython3",
   "version": "3.6.9"
  }
 },
 "nbformat": 4,
 "nbformat_minor": 4
}
