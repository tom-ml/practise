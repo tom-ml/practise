{
 "cells": [
  {
   "cell_type": "code",
   "execution_count": 1,
   "metadata": {},
   "outputs": [],
   "source": [
    "from Config import *\n",
    "from HotelModel import *\n",
    "import fileUtil\n",
    "import re\n",
    "import os"
   ]
  },
  {
   "cell_type": "code",
   "execution_count": 2,
   "metadata": {},
   "outputs": [
    {
     "name": "stdout",
     "output_type": "stream",
     "text": [
      "段落处理完毕\n"
     ]
    }
   ],
   "source": [
    "basic_dir = 'dataset'\n",
    "file_name = 'hotel_desc_seed.csv'\n",
    "punc_file_name = 'punctation.txt'\n",
    "\n",
    "if os.path.exists(os.path.join(basic_dir,punc_file_name)):\n",
    "    puncs = fileUtil.read_data_as_array(basic_dir, punc_file_name)\n",
    "else:\n",
    "    print('file not exist')\n",
    "puncs_list = set(puncs)"
   ]
  },
  {
   "cell_type": "code",
   "execution_count": 3,
   "metadata": {},
   "outputs": [
    {
     "name": "stdout",
     "output_type": "stream",
     "text": [
      "{'那儿', '（', '&', '咦', '哗', '嘛', '那个', '唉', ':', '呸', '嗡', '哇', '吱', '呵呵', '嘘', '咱', '哉', '呃', '啦', '喽', '哈哈', '嗬', '嘻', '￥', '\\\\', '喂', '@', '咋', '嗯', '—', '哎哟', '呜呼', '呗', '哟', '啥', '呜', ';', '㎡', '？', '%', '《', '‘', '~', \"'\", '哎', '嘎登', '?', '，', '呵', '|', '啷当', '那么些', '哦', '哪', '那么', '哈', '那么样', '》', '/', '、', '咧', '呕', '“', '嗳', '那些', '\"', '：', '$', '呼哧', '_', '；', '喏', '啪达', '啐', '咳', '呀', '那会儿', '”', '咱们', '哎呀', '喔唷', '嘎', '`', '吧哒', '）', '嘿', '嗡嗡', '*', '哼唷', '嘿嘿', '哩', '啊', '呢', '咚', '哼'}\n"
     ]
    }
   ],
   "source": [
    "print(puncs_list)"
   ]
  },
  {
   "cell_type": "code",
   "execution_count": 4,
   "metadata": {},
   "outputs": [],
   "source": [
    "documents = []\n",
    "with open(os.path.join(basic_dir,file_name), 'r', encoding='utf-8') as f:\n",
    "    while True:\n",
    "        line = f.readline()\n",
    "        if len(line.strip()) != 0:\n",
    "            #去除（）及内部的内容\n",
    "            line = re.sub('\\\\（.*?\\\\）','',line.strip()).lower().replace('“', '').replace('”', '')\n",
    "            for char in puncs_list:\n",
    "                line = line.replace(char, \" \")\n",
    "            line = line.replace('。。', \"END\").replace('。', \"END\").replace('！', \"END\").replace('？', \"END\")\n",
    "            documents.append(line)\n",
    "        if not line:\n",
    "            break"
   ]
  },
  {
   "cell_type": "code",
   "execution_count": 5,
   "metadata": {},
   "outputs": [
    {
     "name": "stdout",
     "output_type": "stream",
     "text": [
      "['上海时生隅园林文化酒店 2017年的秋末 时生隅初见END彼时的心愿 想要在快节奏的都市 寻一处讲诉时光和生命的角落END不问对错 不闻浮沉END这便是时生隅的由来END这一次 我们秉承初心 在闹中取静的川沙地铁站商圈 觅得一方天地 充满江南气息的园林 叶园END长廊湖景 古雅庭院END这里淡雅而大气 是快节奏与民俗文化的交融 这里幽静而明快 是远道而来亦或小憩而居的别样天地END时生隅的新老朋友 我们在叶园 期待与您共襄当下景 把时光言欢END', '云和夜泊酒店 位于浦东新区祝桥秋亭路 毗邻上海浦东国际机场 车程20分钟 距上海迪士尼18分钟车程 距上海野生动物园21分钟车程END酒店地理位置优越 并配备大巴 中巴 豪华轿车接送客户END酒店拥有房间98间 大床30间 行政大床15间 标间30间 亲子房23间END', '维也纳酒店位于浦东新区川南奉公路 近晨阳路 与迪士尼直线距离约8公里 可便捷到达地铁2号线凌空路站 交通便利END酒店周围生活设施齐全 旅游资源众多 有上海新国际博览中心 迪士尼 上海野生动物园 农艺大观园 三甲港滨海旅游区等END维也纳酒店是维也纳旗下的连锁酒店 装修豪华舒适 整体风格高贵典雅END客房宽敞明亮 温馨时尚 房内布置精美 处处体现人性化的理念END酒店还有宽敞停车场 休闲茶吧 宽敞会议室等 同时还为您提供精品早餐 浦东机场接机等服务 是商务 休闲 会务的理想酒店END', '上海万信r酒店位于浦东新区崮山路 地处内环线陆家嘴金融区内 近地铁6号线 地铁9号线 配备专属停车场 自驾至新国际博览中心约10分钟 至外滩 世博园区 南京路步行街 上海自由贸易区 上海迪斯尼乐园约20分钟END酒店拥有百余间崭新客房 精选配套 让舒适与轻奢相拥 酒店圣罗拉餐厅环境舒适安逸 主打西餐 辅以粤菜 川菜 沪菜 在此享受由港粤名厨精心烹饪的佳肴 舌尖不由自主的跳起了芭蕾END早餐的菜品琳琅满目可达40种 为保证口味 餐品均选优质食材当天加工END酒店豪华宴会厅提供一站式婚礼服务与专业的会务服务END万信厅可支持约120人课桌式会议 丽都厅适合60人以下的各类会议需求END万信r酒店设计 突破了万信酒店一贯理念 时尚年轻 秉承r文化 华丽 贴心 轻松 享受END', '酒店位于浦东新区沪南公路3655弄2号 素有小上海之称的周浦镇 沪南公路横桥路路口 周边有地铁16号线周浦东站及11号线秀沿路站 16号线可直达海洋公园 冰雪世界等游玩景点 11号线可直达迪士尼乐园 毗邻迪士尼乐园 新国际博览中心END酒店周围有迪士尼 上海野生动物园 海昌海洋世界 上海科技馆等多个游玩景点 周边更有万达广场 绿地商城 美食 娱乐均可轻松满足END酒店由美国著名设计师打造 是知名高端设计师酒店品牌END客房典雅豪华 宽敞舒适 并配以42寸飞利浦电视 三诺音响 电动窗帘 智能灯控系统等先进科技设施设备 带来尊贵体验和高端享受END酒店每个房间都有独立的企业级wifi 带给您网络的极速体验 这里的隔音系统更由清华声学所设计 睡眠环境优越 让你一夜酣眠END酒店提供浦东国际机场 迪士尼和周浦东站的定时免费班车服务END', '唯庭酒店位于黄浦区中山南路 靠近董家渡轻纺市场 南浦大桥 与豫园 外滩 人民广场 老西门以及南京东路步行街相邻 靠近十六铺码头 体验老上海风情的历史风光 周边交通便利 与4号线 9号线相近 可步行至豫园END酒店设有两百余间不同类型的客房 房内均配备智能控制系统 高级床品和高端洗浴用品 酒店独有会议室 早餐厅一应俱全END酒店以现代轻奢风 精致时尚的环境 智能及舒适人性的客房 高效便捷的设施以及温馨细致的服务 带给您一场全新的商务旅行体验线END', '上海迪漫酒店位于上海浦东新区川沙镇  川图路 地处迪士尼乐园旁核心位置 距离迪士尼约3公里左右 2号地铁站川沙站约3END5公里END酒店监控区域内有停车位 房间内配备24小时热水 拖鞋 独立淋浴间 吹风机 洗漱用品 以及书桌 液晶电视 高速上网 空调 wifi 电水壶等END此外 酒店有专车接送服务 酒店保证为每一位顾客提供优质的服务 全面的设施 迪漫酒店期待您的光临END', '酒店位于南京路步行街中心位置 地处南京路步行街上 毗邻人民广场 杜莎夫人蜡像馆 城隍庙 豫园 外滩 淮海路商圈 隔江眺望东方明珠 环球金融中心END从酒店步行可至地铁1 2 8的人民广场站5 6 19号出口以及10号线南京东路站1号口 交通便利END酒店客房内设有先进的智能化客房电子设备 精致时尚的住宿环境 舒适人性的客房 高效便捷的设施 恰到好处的服务 带您体验商务旅行新乐趣END让您拥有惬意的住宿环境 享受每一段自在旅程END', '上海沪迪酒店位于上海市浦东新区川图路 与川沙路交汇处 距迪士尼直线距离约1END9公里 地铁站约5分钟车程 酒店周边景点有上海科技馆 上海野生动物园 佛罗伦萨小镇 东方明珠 外滩 南京路步行街END酒店面积近万平米 配有24小时全家便利店 餐厅 足浴sp 会议室等 酒店装修风格以北欧风 美式风及儿童亲子风格为主 无论您游玩迪士尼还是出行浦东机场 上海沪迪酒店是您不错选择END酒店还提供免费接送迪士尼 浦东机场 2号线地铁川沙站END', '上海迪堡王国酒店位于上海浦东新区川沙镇  川图路 地处迪士尼乐园旁核心位置 距离迪士尼约3公里左右 2号地铁站川沙站约3END5公里END酒店监控区域内有停车位 房间内配备24小时热水 拖鞋 独立淋浴间 吹风机 洗漱用品 以及书桌 液晶电视 高速上网 空调 wifi 电水壶等END此外 酒店有专车接送服务 酒店保证为每一位顾客提供优质的服务 全面的设施 期待光临END']\n"
     ]
    }
   ],
   "source": [
    "print(documents[:10])"
   ]
  },
  {
   "cell_type": "code",
   "execution_count": 6,
   "metadata": {},
   "outputs": [],
   "source": [
    "def write_hotels_to_file(basic_dir, file_name, hotels_dict):\n",
    "    with open(os.path.join(basic_dir,file_name), 'w+') as f:\n",
    "        for item in  hotels_dict:\n",
    "            f.write(item+'\\n')\n",
    "    f.close()\n",
    "    print('Write hotel info to file done. ')"
   ]
  },
  {
   "cell_type": "code",
   "execution_count": 7,
   "metadata": {},
   "outputs": [
    {
     "name": "stdout",
     "output_type": "stream",
     "text": [
      "Write hotel info to file done. \n"
     ]
    }
   ],
   "source": [
    "write_hotels_to_file(basic_dir, 'hotel_desc_seed_remove_punc.csv', documents)"
   ]
  },
  {
   "cell_type": "code",
   "execution_count": null,
   "metadata": {},
   "outputs": [],
   "source": []
  }
 ],
 "metadata": {
  "kernelspec": {
   "display_name": "Python 3",
   "language": "python",
   "name": "python3"
  },
  "language_info": {
   "codemirror_mode": {
    "name": "ipython",
    "version": 3
   },
   "file_extension": ".py",
   "mimetype": "text/x-python",
   "name": "python",
   "nbconvert_exporter": "python",
   "pygments_lexer": "ipython3",
   "version": "3.6.9"
  }
 },
 "nbformat": 4,
 "nbformat_minor": 4
}
